{
 "cells": [
  {
   "cell_type": "code",
   "execution_count": 5,
   "metadata": {},
   "outputs": [],
   "source": [
    "import gymnasium as gym\n",
    "import numpy as np\n",
    "from collections import namedtuple\n",
    "import torch\n",
    "import torch.nn as nn\n",
    "import torch.nn.functional as F\n",
    "import random\n",
    "import matplotlib.pyplot as plt\n",
    "import cv2\n",
    "import os\n",
    "\n",
    "from gymnasium.spaces import Box\n",
    "from IPython.display import clear_output"
   ]
  },
  {
   "cell_type": "code",
   "execution_count": 6,
   "metadata": {},
   "outputs": [],
   "source": [
    "DEVICE = torch.device(\"cuda\" if torch.cuda.is_available() else \"cpu\")\n",
    "MAX_SIZE = 10000\n",
    "BATCH_SIZE = 32\n",
    "EPS_MAX = 0.95\n",
    "EPS_MIN = 0.1\n",
    "EPS_DECAY = 1000\n",
    "DROP = 0.2\n",
    "GAMMA = 0.95\n",
    "LR = 0.001"
   ]
  },
  {
   "cell_type": "code",
   "execution_count": 13,
   "metadata": {},
   "outputs": [],
   "source": [
    "def plot_observation(observation):\n",
    "    frame_count = observation.shape[0]\n",
    "    _, axes = plt.subplots(1, frame_count, figsize=(frame_count*4, 5))\n",
    "    for i in range(frame_count):\n",
    "        axes[i].imshow(observation[i], cmap='gray')\n",
    "        axes[i].axis('off')\n",
    "    plt.show()\n",
    "def show_img(img, hide_colorbar=False):\n",
    "    if len(img.shape) < 3 or img.shape[2] == 1:\n",
    "        plt.imshow(img, cmap='gray')\n",
    "    else:\n",
    "        plt.imshow(img)\n",
    "\n",
    "    if not hide_colorbar:\n",
    "        plt.colorbar()\n",
    "def prepend_tuple(new_dim, some_shape):\n",
    "    some_shape_list = list(some_shape)\n",
    "    some_shape_list.insert(0, new_dim)\n",
    "    return tuple(some_shape_list)\n",
    "\n",
    "\n",
    "def replace_color(data, original, new_value):\n",
    "    r1, g1, b1 = original\n",
    "    r2, g2, b2 = new_value\n",
    "\n",
    "    red, green, blue = data[:,:,0], data[:,:,1], data[:,:,2]\n",
    "    mask = (red == r1) & (green == g1) & (blue == b1)\n",
    "    data[:,:,:3][mask] = [r2, g2, b2]\n",
    "\n",
    "def convert2tensor(array):\n",
    "    if torch.is_tensor(array):\n",
    "        return array\n",
    "    return torch.tensor(array, dtype=torch.float32).to(DEVICE)"
   ]
  },
  {
   "cell_type": "code",
   "execution_count": 14,
   "metadata": {},
   "outputs": [],
   "source": [
    "class GameEnv(gym.Wrapper):\n",
    "    def __init__(self, env):\n",
    "        super(GameEnv, self).__init__(env)\n",
    "        self.action_space = self.env.action_space\n",
    "        self.frame_skip = 4\n",
    "        self.frame_stack = 4\n",
    "        self.observation_space = Box(0, 255, self.reset()[0].shape, dtype=np.uint8)\n",
    "        self.last_stack = np.array([])\n",
    "\n",
    "    def skip_frames(self, action, skip_count=100):\n",
    "        total_reward = 0 # not sure\n",
    "        if torch.is_tensor(action):\n",
    "            action = action.to('cpu').numpy()\n",
    "        for _ in range(skip_count):\n",
    "            observation, reward, terminated, truncated, info = self.env.step(action)\n",
    "            total_reward += reward \n",
    "            if terminated or truncated:\n",
    "                break\n",
    "        return observation, total_reward/float(skip_count), terminated, truncated, info\n",
    "\n",
    "    def stack_frames(self, new_frame, reset=False):\n",
    "        if reset:\n",
    "            self.last_stack = np.tile(new_frame, (self.frame_stack, 1, 1))\n",
    "        else:\n",
    "            self.last_stack = np.concatenate((self.last_stack[1:], new_frame[np.newaxis]), axis=0)\n",
    "        return self.last_stack\n",
    "    \n",
    "    def process_image(self, observation):\n",
    "        for i in range(86, 93+1):\n",
    "            observation[i, 0:12, :] = observation[i, 12, :]\n",
    "        for i in range(200, 230):\n",
    "            replace_color(observation, original=(100, i, 100), new_value=(100, 202, 100))\n",
    "        \n",
    "        observation[66:77, 45:51] = 0\n",
    "        observation = cv2.cvtColor(np.array(observation), cv2.COLOR_BGR2GRAY)/255.0 # normalize\n",
    "            # Scale from 0 to 1\n",
    "        observation = observation / observation.max()\n",
    "        return observation\n",
    "\n",
    "    def reset(self, **kwargs):\n",
    "        observation, info = self.env.reset(**kwargs)\n",
    "        observation, _, _, _, info = self.skip_frames([0,0,0])\n",
    "        observation = self.process_image(observation)\n",
    "        observation = self.stack_frames(observation, True)\n",
    "\n",
    "        return observation, info\n",
    "\n",
    "    def step(self, action):\n",
    "        observation, total_reward, terminated, truncated, info = self.skip_frames(action, self.frame_skip)\n",
    "        observation = self.process_image(observation)\n",
    "        observation = self.stack_frames(observation)\n",
    "\n",
    "        return observation, total_reward, terminated, truncated, info"
   ]
  },
  {
   "cell_type": "code",
   "execution_count": 15,
   "metadata": {},
   "outputs": [],
   "source": [
    "transition = namedtuple(\"Transition\", (\"state\",\"action\", \"reward\", \"next_state\"))\n",
    "\n",
    "class ReplayMemory():\n",
    "    def __init__(self, state_shape, action_shape):\n",
    "        self.state = convert2tensor(np.zeros((MAX_SIZE, *state_shape)))\n",
    "        self.action = convert2tensor(np.zeros((MAX_SIZE, action_shape)))\n",
    "        self.reward = convert2tensor(np.zeros((MAX_SIZE, 1), dtype=float))\n",
    "        self.next_state = convert2tensor(np.zeros((MAX_SIZE, *state_shape)))\n",
    "\n",
    "        self.current_size = 0\n",
    "\n",
    "    def push(self, transition):\n",
    "        self.state[self.current_size] = convert2tensor(np.array(transition.state))\n",
    "        self.action[self.current_size] = convert2tensor(transition.action)\n",
    "        self.reward[self.current_size] = convert2tensor(np.array(transition.reward))\n",
    "        self.next_state[self.current_size] = convert2tensor(np.array(transition.next_state))\n",
    "\n",
    "        self.current_size = (self.current_size + 1) % MAX_SIZE\n",
    "\n",
    "    def sample(self):\n",
    "        sample_idx = np.random.randint(len(self.state), size=(min(self.current_size, BATCH_SIZE))) \n",
    "        return self.state[sample_idx], self.action[sample_idx], self.reward[sample_idx], self.next_state[sample_idx]"
   ]
  },
  {
   "cell_type": "code",
   "execution_count": 16,
   "metadata": {},
   "outputs": [],
   "source": [
    "class ActorNet(nn.Module):\n",
    "    def __init__(self, state, possible_actions):\n",
    "        super(ActorNet, self).__init__()\n",
    "        input_channel = state.shape[0]\n",
    "        state = torch.tensor(state, dtype=torch.float32, device=DEVICE)\n",
    "        self.layer1 = nn.Conv2d(input_channel, 16, kernel_size=5, stride=4, padding='valid').to(DEVICE) # 41x41\n",
    "        self.layer2 = nn.Conv2d(16, 32, kernel_size=3, stride=3, padding='valid').to(DEVICE) # 41x41\n",
    "        self.layer3 = nn.Conv2d(32, 32, kernel_size=3, stride=3, padding='valid').to(DEVICE) # 41x41\n",
    "\n",
    "        with torch.no_grad():\n",
    "            x = F.relu(self.layer1(state))\n",
    "            x = F.relu(self.layer2(x))\n",
    "            x = F.relu(self.layer3(x))\n",
    "            dense_input = x.shape[2]\n",
    "        \n",
    "        self.fc1 = nn.Linear(32*dense_input*dense_input, 64).to(DEVICE)\n",
    "        self.fc2 = nn.Linear(64, possible_actions).to(DEVICE)\n",
    "    \n",
    "    def forward(self, state):\n",
    "        out = self.layer1(state)\n",
    "        out = F.relu(out)\n",
    "\n",
    "        out = self.layer2(out)\n",
    "        out = F.relu(out)\n",
    "\n",
    "        out = self.layer3(out)\n",
    "        out = F.relu(out)\n",
    "\n",
    "        out = out.reshape(out.size(0), -1)\n",
    "\n",
    "        out = F.relu(self.fc1(out))\n",
    "        out = self.fc2(out)\n",
    "        \n",
    "        return F.softmax(out, dim=1)\n",
    "    "
   ]
  },
  {
   "cell_type": "code",
   "execution_count": 17,
   "metadata": {},
   "outputs": [],
   "source": [
    "class CriticNet(nn.Module):\n",
    "    def __init__(self, state, possible_actions):\n",
    "        super(CriticNet, self).__init__()\n",
    "        input_channel = state.shape[0]\n",
    "        state = torch.tensor(state, dtype=torch.float32, device=DEVICE)\n",
    "        self.layer1 = nn.Conv2d(input_channel, 16, kernel_size=5, stride=4, padding='valid').to(DEVICE) # 41x41\n",
    "        self.layer2 = nn.Conv2d(16, 32, kernel_size=3, stride=3, padding='valid').to(DEVICE) # 41x41\n",
    "        self.layer3 = nn.Conv2d(32, 32, kernel_size=3, stride=3, padding='valid').to(DEVICE) # 41x41\n",
    "\n",
    "        with torch.no_grad():\n",
    "            x = F.relu(self.layer1(state))\n",
    "            x = F.relu(self.layer2(x))\n",
    "            x = F.relu(self.layer3(x))\n",
    "            dense_input = x.shape[2]\n",
    "        \n",
    "        self.fc1 = nn.Linear(32*dense_input*dense_input+possible_actions, 64).to(DEVICE)\n",
    "        self.fc2 = nn.Linear(64, 1).to(DEVICE)\n",
    "    \n",
    "    def forward(self, state, action):\n",
    "        out = self.layer1(state)\n",
    "        out = F.relu(out)\n",
    "\n",
    "        out = self.layer2(out)\n",
    "        out = F.relu(out)\n",
    "\n",
    "        out = self.layer3(out)\n",
    "        out = F.relu(out)\n",
    "\n",
    "        out = out.reshape(out.size(0), -1)\n",
    "        out = torch.concatenate((out, action), 1)\n",
    "        out = F.relu(self.fc1(out))\n",
    "        out = self.fc2(out)\n",
    "        \n",
    "        return F.softmax(out, dim=1)"
   ]
  },
  {
   "cell_type": "code",
   "execution_count": 18,
   "metadata": {},
   "outputs": [],
   "source": [
    "class NoiseGenerator:\n",
    "    def __init__(self, mean, std_dev, theta=0.3, dt=5e-2):\n",
    "        self.theta = theta\n",
    "        self.dt = dt\n",
    "        self.mean = mean\n",
    "        self.std_dev = std_dev\n",
    "\n",
    "        if mean.shape != std_dev.shape:\n",
    "            raise ValueError('Mean shape: {} and std_dev shape: {} should be the same!'.format(\n",
    "                mean.shape, std_dev.shape))\n",
    "\n",
    "        # This shape will be generated\n",
    "        self.x_shape = mean.shape\n",
    "        self.x = None\n",
    "\n",
    "        self.reset()\n",
    "\n",
    "    def reset(self):\n",
    "        # Reinitialize generator\n",
    "        self.x = np.zeros_like(self.x_shape)\n",
    "\n",
    "    def generate(self):\n",
    "        # The result is based on the old value\n",
    "        # The second segment will keep values near a mean value\n",
    "        # It uses normal distribution multiplied by a standard deviation\n",
    "        self.x = (self.x\n",
    "                  + self.theta * (self.mean - self.x) * self.dt\n",
    "                  + self.std_dev * np.sqrt(self.dt) * np.random.normal(size=self.x_shape))\n",
    "\n",
    "        # TODO: check if decaying noise helps\n",
    "        # self.std_dev = self.std_dev * 0.9999\n",
    "        return self.x"
   ]
  },
  {
   "cell_type": "code",
   "execution_count": 24,
   "metadata": {},
   "outputs": [
    {
     "ename": "",
     "evalue": "",
     "output_type": "error",
     "traceback": [
      "\u001b[1;31mThe Kernel crashed while executing code in the the current cell or a previous cell. Please review the code in the cell(s) to identify a possible cause of the failure. Click <a href='https://aka.ms/vscodeJupyterKernelCrash'>here</a> for more info. View Jupyter <a href='command:jupyter.viewOutput'>log</a> for further details."
     ]
    }
   ],
   "source": [
    "class DDPG(nn.Module):\n",
    "    def __init__(self, state, actions, action_space, noise_mean=None, noise_std=None):\n",
    "        super(DDPG, self).__init__()\n",
    "\n",
    "        self.memory = ReplayMemory(state.shape, actions)\n",
    "        self.action_space = action_space\n",
    "\n",
    "        self.actor = ActorNet(state, actions)\n",
    "        self.actor_target = ActorNet(state, actions)\n",
    "        self.actor_target.load_state_dict(self.actor.state_dict())\n",
    "\n",
    "        self.critic = CriticNet(state, actions)\n",
    "        self.critic_target = CriticNet(state, actions)\n",
    "        self.critic_target.load_state_dict(self.critic.state_dict())\n",
    "\n",
    "        self.gamma = 0.99\n",
    "        self.actor_lr = 0.00001\n",
    "        self.critic_lr = 0.002\n",
    "        self.tau = 0.005\n",
    "        self.memory_capacity = 60000\n",
    "\n",
    "        self.optimizer_actor = torch.optim.Adam(self.actor.parameters(), lr=self.actor_lr)\n",
    "        self.optimizer_critic = torch.optim.Adam(self.critic.parameters(), lr=self.critic_lr)\n",
    "        self.loss = nn.MSELoss(reduction='mean')\n",
    "\n",
    "        # Init noise generator\n",
    "        if noise_mean is None:\n",
    "            noise_mean = np.full(actions, 0.0, np.float32)\n",
    "        if noise_std is None:\n",
    "            noise_std  = np.full(actions, 0.2, np.float32)\n",
    "        self.noise = NoiseGenerator(noise_mean, noise_std)\n",
    "    \n",
    "    def reset(self):\n",
    "        self.noise.reset()\n",
    "\n",
    "    def select_action(self, state, training=True):\n",
    "        state = torch.tensor(state, dtype=torch.float32, device=DEVICE)\n",
    "        with torch.no_grad():\n",
    "            action = self.actor(state.unsqueeze(0))\n",
    "        \n",
    "        # add noise\n",
    "        if training:\n",
    "            action = action[0] + torch.tensor(self.noise.generate(), dtype=torch.float32, device=DEVICE)\n",
    "        else:\n",
    "            action = action[0]\n",
    "\n",
    "        real_action = convert2tensor([action[0].item(), action[1].clip(0, 1).item(), -action[1].clip(-1, 0).item()])\n",
    "        real_action = torch.clip(real_action, min=convert2tensor(self.action_space.low), max=convert2tensor(self.action_space.high))\n",
    "\n",
    "        return action, real_action\n",
    "    \n",
    "    def learn(self):\n",
    "        state, action, reward, next_state = self.memory.sample()\n",
    "\n",
    "        next_action = self.actor_target(next_state)\n",
    "        y = reward + self.gamma * self.critic_target(next_state, next_action)\n",
    "\n",
    "        loss_critic = self.loss(y,self.critic(state, action))\n",
    "        self.optimizer_critic.zero_grad()\n",
    "        loss_critic.backward()\n",
    "        self.optimizer_critic.step()\n",
    "        \n",
    "        loss_actor = -self.critic(state, self.actor(state)).mean()\n",
    "        self.optimizer_actor.zero_grad()\n",
    "        loss_actor.backward()\n",
    "        self.optimizer_actor.step()\n",
    "\n",
    "        for target_param, param in zip(self.actor_target.parameters(), self.actor.parameters()):\n",
    "            target_param.data.copy_(self.tau * param.data + (1.0 - self.tau) * target_param.data)\n",
    "            \n",
    "        for target_param, param in zip(self.critic_target.parameters(), self.critic.parameters()):\n",
    "            target_param.data.copy_(self.tau * param.data + (1.0 - self.tau) * target_param.data)\n",
    "\n",
    "    def save_models(self, episode):\n",
    "        if not os.path.exists(f'models/1'):\n",
    "            os.makedirs(f'models/1')\n",
    "            \n",
    "        torch.save(self.actor.state_dict(), f'models/{episode}/actor.pt')\n",
    "        torch.save(self.critic.state_dict(), f'models/{episode}/critic.pt')\n",
    "        torch.save(self.actor_target.state_dict(), f'models/{episode}/actor_target.pt')\n",
    "        torch.save(self.critic_target.state_dict(), f'models/{episode}/critic_target.pt')\n",
    "\n",
    "    def load_models(self):\n",
    "        self.actor.load_state_dict(torch.load(\"gym-rl-car-racing/models/actor.pt\")) \n",
    "        self.critic.load_state_dict(torch.load(\"gym-rl-car-racing/models/critic.pt\")) \n",
    "        self.actor_target.load_state_dict(torch.load(\"gym-rl-car-racing/models/actor_target.pt\")) \n",
    "        self.critic_target.load_state_dict(torch.load(\"gym-rl-car-racing/models/critic_target.pt\")) "
   ]
  },
  {
   "cell_type": "code",
   "execution_count": 32,
   "metadata": {},
   "outputs": [],
   "source": [
    "import numpy as np\n",
    "\n",
    "es = torch.tensor(np.random.rand(3), dtype=torch.float32).to(DEVICE)"
   ]
  },
  {
   "cell_type": "code",
   "execution_count": 34,
   "metadata": {},
   "outputs": [
    {
     "data": {
      "text/plain": [
       "tensor([0.4999, 0.4869, 0.3803], device='cuda:0')"
      ]
     },
     "execution_count": 34,
     "metadata": {},
     "output_type": "execute_result"
    }
   ],
   "source": [
    "es * 0.5"
   ]
  },
  {
   "cell_type": "code",
   "execution_count": 3,
   "metadata": {},
   "outputs": [],
   "source": [
    "env = gym.make('CarRacing-v2', continuous=True, render_mode=\"rgb_array\")\n",
    "observation, _ = env.reset()\n",
    "observation, total_reward, terminated, truncated, info = env.step(env.action_space.sample())"
   ]
  },
  {
   "cell_type": "code",
   "execution_count": 10,
   "metadata": {},
   "outputs": [
    {
     "data": {
      "image/png": "[encoded data removed]",
      "text/plain": [
       "<Figure size 1200x500 with 3 Axes>"
      ]
     },
     "metadata": {},
     "output_type": "display_data"
    }
   ],
   "source": [
    "for i in range(86, 93+1):\n",
    "    observation[i, 0:12, :] = observation[i, 12, :]\n",
    "plot_observation(np.moveaxis(observation, -1, 0))"
   ]
  },
  {
   "cell_type": "code",
   "execution_count": 11,
   "metadata": {},
   "outputs": [
    {
     "data": {
      "image/png": "[encoded data removed]",
      "text/plain": [
       "<Figure size 1600x500 with 4 Axes>"
      ]
     },
     "metadata": {},
     "output_type": "display_data"
    }
   ],
   "source": [
    "plot_observation(observation)"
   ]
  },
  {
   "cell_type": "code",
   "execution_count": 20,
   "metadata": {},
   "outputs": [
    {
     "ename": "KeyboardInterrupt",
     "evalue": "",
     "output_type": "error",
     "traceback": [
      "\u001b[1;31m---------------------------------------------------------------------------\u001b[0m",
      "\u001b[1;31mKeyboardInterrupt\u001b[0m                         Traceback (most recent call last)",
      "\u001b[1;32mc:\\Users\\mertc\\Desktop\\dev\\gym-rl-car-racing\\car-ddpg.ipynb Cell 13\u001b[0m line \u001b[0;36m1\n\u001b[0;32m      <a href='vscode-notebook-cell:/c%3A/Users/mertc/Desktop/dev/gym-rl-car-racing/car-ddpg.ipynb#X14sZmlsZQ%3D%3D?line=8'>9</a>\u001b[0m history \u001b[39m=\u001b[39m {\u001b[39m'\u001b[39m\u001b[39mEpisode\u001b[39m\u001b[39m'\u001b[39m: [], \u001b[39m'\u001b[39m\u001b[39mAvgReturn\u001b[39m\u001b[39m'\u001b[39m: []}\n\u001b[0;32m     <a href='vscode-notebook-cell:/c%3A/Users/mertc/Desktop/dev/gym-rl-car-racing/car-ddpg.ipynb#X14sZmlsZQ%3D%3D?line=10'>11</a>\u001b[0m noise_std \u001b[39m=\u001b[39m np\u001b[39m.\u001b[39marray([\u001b[39m0.1\u001b[39m, \u001b[39m4\u001b[39m \u001b[39m*\u001b[39m \u001b[39m0.2\u001b[39m], dtype\u001b[39m=\u001b[39mnp\u001b[39m.\u001b[39mfloat32)\n\u001b[1;32m---> <a href='vscode-notebook-cell:/c%3A/Users/mertc/Desktop/dev/gym-rl-car-racing/car-ddpg.ipynb#X14sZmlsZQ%3D%3D?line=11'>12</a>\u001b[0m agent \u001b[39m=\u001b[39m DDPG(state, \u001b[39m2\u001b[39m, env\u001b[39m.\u001b[39maction_space, noise_std\u001b[39m=\u001b[39mnoise_std)\n\u001b[0;32m     <a href='vscode-notebook-cell:/c%3A/Users/mertc/Desktop/dev/gym-rl-car-racing/car-ddpg.ipynb#X14sZmlsZQ%3D%3D?line=12'>13</a>\u001b[0m agent\u001b[39m.\u001b[39mreset()\n\u001b[0;32m     <a href='vscode-notebook-cell:/c%3A/Users/mertc/Desktop/dev/gym-rl-car-racing/car-ddpg.ipynb#X14sZmlsZQ%3D%3D?line=13'>14</a>\u001b[0m agent\u001b[39m.\u001b[39mload_models()\n",
      "\u001b[1;32mc:\\Users\\mertc\\Desktop\\dev\\gym-rl-car-racing\\car-ddpg.ipynb Cell 13\u001b[0m line \u001b[0;36m8\n\u001b[0;32m      <a href='vscode-notebook-cell:/c%3A/Users/mertc/Desktop/dev/gym-rl-car-racing/car-ddpg.ipynb#X14sZmlsZQ%3D%3D?line=4'>5</a>\u001b[0m \u001b[39mself\u001b[39m\u001b[39m.\u001b[39mmemory \u001b[39m=\u001b[39m ReplayMemory(state\u001b[39m.\u001b[39mshape, actions)\n\u001b[0;32m      <a href='vscode-notebook-cell:/c%3A/Users/mertc/Desktop/dev/gym-rl-car-racing/car-ddpg.ipynb#X14sZmlsZQ%3D%3D?line=5'>6</a>\u001b[0m \u001b[39mself\u001b[39m\u001b[39m.\u001b[39maction_space \u001b[39m=\u001b[39m action_space\n\u001b[1;32m----> <a href='vscode-notebook-cell:/c%3A/Users/mertc/Desktop/dev/gym-rl-car-racing/car-ddpg.ipynb#X14sZmlsZQ%3D%3D?line=7'>8</a>\u001b[0m \u001b[39mself\u001b[39m\u001b[39m.\u001b[39mactor \u001b[39m=\u001b[39m ActorNet(state, actions)\n\u001b[0;32m      <a href='vscode-notebook-cell:/c%3A/Users/mertc/Desktop/dev/gym-rl-car-racing/car-ddpg.ipynb#X14sZmlsZQ%3D%3D?line=8'>9</a>\u001b[0m \u001b[39mself\u001b[39m\u001b[39m.\u001b[39mactor_target \u001b[39m=\u001b[39m ActorNet(state, actions)\n\u001b[0;32m     <a href='vscode-notebook-cell:/c%3A/Users/mertc/Desktop/dev/gym-rl-car-racing/car-ddpg.ipynb#X14sZmlsZQ%3D%3D?line=9'>10</a>\u001b[0m \u001b[39mself\u001b[39m\u001b[39m.\u001b[39mactor_target\u001b[39m.\u001b[39mload_state_dict(\u001b[39mself\u001b[39m\u001b[39m.\u001b[39mactor\u001b[39m.\u001b[39mstate_dict())\n",
      "\u001b[1;32mc:\\Users\\mertc\\Desktop\\dev\\gym-rl-car-racing\\car-ddpg.ipynb Cell 13\u001b[0m line \u001b[0;36m1\n\u001b[0;32m      <a href='vscode-notebook-cell:/c%3A/Users/mertc/Desktop/dev/gym-rl-car-racing/car-ddpg.ipynb#X14sZmlsZQ%3D%3D?line=7'>8</a>\u001b[0m \u001b[39mself\u001b[39m\u001b[39m.\u001b[39mlayer3 \u001b[39m=\u001b[39m nn\u001b[39m.\u001b[39mConv2d(\u001b[39m32\u001b[39m, \u001b[39m32\u001b[39m, kernel_size\u001b[39m=\u001b[39m\u001b[39m3\u001b[39m, stride\u001b[39m=\u001b[39m\u001b[39m3\u001b[39m, padding\u001b[39m=\u001b[39m\u001b[39m'\u001b[39m\u001b[39mvalid\u001b[39m\u001b[39m'\u001b[39m)\u001b[39m.\u001b[39mto(DEVICE) \u001b[39m# 41x41\u001b[39;00m\n\u001b[0;32m     <a href='vscode-notebook-cell:/c%3A/Users/mertc/Desktop/dev/gym-rl-car-racing/car-ddpg.ipynb#X14sZmlsZQ%3D%3D?line=9'>10</a>\u001b[0m \u001b[39mwith\u001b[39;00m torch\u001b[39m.\u001b[39mno_grad():\n\u001b[1;32m---> <a href='vscode-notebook-cell:/c%3A/Users/mertc/Desktop/dev/gym-rl-car-racing/car-ddpg.ipynb#X14sZmlsZQ%3D%3D?line=10'>11</a>\u001b[0m     x \u001b[39m=\u001b[39m F\u001b[39m.\u001b[39mrelu(\u001b[39mself\u001b[39m\u001b[39m.\u001b[39mlayer1(state))\n\u001b[0;32m     <a href='vscode-notebook-cell:/c%3A/Users/mertc/Desktop/dev/gym-rl-car-racing/car-ddpg.ipynb#X14sZmlsZQ%3D%3D?line=11'>12</a>\u001b[0m     x \u001b[39m=\u001b[39m F\u001b[39m.\u001b[39mrelu(\u001b[39mself\u001b[39m\u001b[39m.\u001b[39mlayer2(x))\n\u001b[0;32m     <a href='vscode-notebook-cell:/c%3A/Users/mertc/Desktop/dev/gym-rl-car-racing/car-ddpg.ipynb#X14sZmlsZQ%3D%3D?line=12'>13</a>\u001b[0m     x \u001b[39m=\u001b[39m F\u001b[39m.\u001b[39mrelu(\u001b[39mself\u001b[39m\u001b[39m.\u001b[39mlayer3(x))\n",
      "File \u001b[1;32mc:\\Users\\mertc\\anaconda3\\envs\\gymenv\\Lib\\site-packages\\torch\\nn\\modules\\module.py:1501\u001b[0m, in \u001b[0;36mModule._call_impl\u001b[1;34m(self, *args, **kwargs)\u001b[0m\n\u001b[0;32m   1496\u001b[0m \u001b[39m# If we don't have any hooks, we want to skip the rest of the logic in\u001b[39;00m\n\u001b[0;32m   1497\u001b[0m \u001b[39m# this function, and just call forward.\u001b[39;00m\n\u001b[0;32m   1498\u001b[0m \u001b[39mif\u001b[39;00m \u001b[39mnot\u001b[39;00m (\u001b[39mself\u001b[39m\u001b[39m.\u001b[39m_backward_hooks \u001b[39mor\u001b[39;00m \u001b[39mself\u001b[39m\u001b[39m.\u001b[39m_backward_pre_hooks \u001b[39mor\u001b[39;00m \u001b[39mself\u001b[39m\u001b[39m.\u001b[39m_forward_hooks \u001b[39mor\u001b[39;00m \u001b[39mself\u001b[39m\u001b[39m.\u001b[39m_forward_pre_hooks\n\u001b[0;32m   1499\u001b[0m         \u001b[39mor\u001b[39;00m _global_backward_pre_hooks \u001b[39mor\u001b[39;00m _global_backward_hooks\n\u001b[0;32m   1500\u001b[0m         \u001b[39mor\u001b[39;00m _global_forward_hooks \u001b[39mor\u001b[39;00m _global_forward_pre_hooks):\n\u001b[1;32m-> 1501\u001b[0m     \u001b[39mreturn\u001b[39;00m forward_call(\u001b[39m*\u001b[39margs, \u001b[39m*\u001b[39m\u001b[39m*\u001b[39mkwargs)\n\u001b[0;32m   1502\u001b[0m \u001b[39m# Do not call functions when jit is used\u001b[39;00m\n\u001b[0;32m   1503\u001b[0m full_backward_hooks, non_full_backward_hooks \u001b[39m=\u001b[39m [], []\n",
      "File \u001b[1;32mc:\\Users\\mertc\\anaconda3\\envs\\gymenv\\Lib\\site-packages\\torch\\nn\\modules\\conv.py:463\u001b[0m, in \u001b[0;36mConv2d.forward\u001b[1;34m(self, input)\u001b[0m\n\u001b[0;32m    462\u001b[0m \u001b[39mdef\u001b[39;00m \u001b[39mforward\u001b[39m(\u001b[39mself\u001b[39m, \u001b[39minput\u001b[39m: Tensor) \u001b[39m-\u001b[39m\u001b[39m>\u001b[39m Tensor:\n\u001b[1;32m--> 463\u001b[0m     \u001b[39mreturn\u001b[39;00m \u001b[39mself\u001b[39m\u001b[39m.\u001b[39m_conv_forward(\u001b[39minput\u001b[39m, \u001b[39mself\u001b[39m\u001b[39m.\u001b[39mweight, \u001b[39mself\u001b[39m\u001b[39m.\u001b[39mbias)\n",
      "File \u001b[1;32mc:\\Users\\mertc\\anaconda3\\envs\\gymenv\\Lib\\site-packages\\torch\\nn\\modules\\conv.py:459\u001b[0m, in \u001b[0;36mConv2d._conv_forward\u001b[1;34m(self, input, weight, bias)\u001b[0m\n\u001b[0;32m    455\u001b[0m \u001b[39mif\u001b[39;00m \u001b[39mself\u001b[39m\u001b[39m.\u001b[39mpadding_mode \u001b[39m!=\u001b[39m \u001b[39m'\u001b[39m\u001b[39mzeros\u001b[39m\u001b[39m'\u001b[39m:\n\u001b[0;32m    456\u001b[0m     \u001b[39mreturn\u001b[39;00m F\u001b[39m.\u001b[39mconv2d(F\u001b[39m.\u001b[39mpad(\u001b[39minput\u001b[39m, \u001b[39mself\u001b[39m\u001b[39m.\u001b[39m_reversed_padding_repeated_twice, mode\u001b[39m=\u001b[39m\u001b[39mself\u001b[39m\u001b[39m.\u001b[39mpadding_mode),\n\u001b[0;32m    457\u001b[0m                     weight, bias, \u001b[39mself\u001b[39m\u001b[39m.\u001b[39mstride,\n\u001b[0;32m    458\u001b[0m                     _pair(\u001b[39m0\u001b[39m), \u001b[39mself\u001b[39m\u001b[39m.\u001b[39mdilation, \u001b[39mself\u001b[39m\u001b[39m.\u001b[39mgroups)\n\u001b[1;32m--> 459\u001b[0m \u001b[39mreturn\u001b[39;00m F\u001b[39m.\u001b[39mconv2d(\u001b[39minput\u001b[39m, weight, bias, \u001b[39mself\u001b[39m\u001b[39m.\u001b[39mstride,\n\u001b[0;32m    460\u001b[0m                 \u001b[39mself\u001b[39m\u001b[39m.\u001b[39mpadding, \u001b[39mself\u001b[39m\u001b[39m.\u001b[39mdilation, \u001b[39mself\u001b[39m\u001b[39m.\u001b[39mgroups)\n",
      "\u001b[1;31mKeyboardInterrupt\u001b[0m: "
     ]
    }
   ],
   "source": [
    "n_episodes = 50000\n",
    "save_model_freq = 1\n",
    "save_reward_freq = 1\n",
    "\n",
    "\n",
    "env = GameEnv(gym.make('CarRacing-v2', continuous=True, render_mode=\"rgb_array\"))\n",
    "state, _ = env.reset()\n",
    "all_episode_reward = []\n",
    "history = {'Episode': [], 'AvgReturn': []}\n",
    "\n",
    "noise_std = np.array([0.1, 4 * 0.2], dtype=np.float32)\n",
    "agent = DDPG(state, 2, env.action_space, noise_std=noise_std)\n",
    "agent.reset()\n",
    "\n",
    "\n",
    "# Loop of episodes\n",
    "for ie in range(n_episodes):\n",
    "    state, _ = env.reset()\n",
    "    agent.reset()\n",
    "    done = False\n",
    "    episode_reward = 0\n",
    "    no_reward_counter = 0\n",
    "\n",
    "    # One-step-loop\n",
    "    while not done:\n",
    "\n",
    "        train_action, real_action = agent.select_action(state)\n",
    "\n",
    "        # This will make steering much easier\n",
    "        real_action /= 4\n",
    "        next_state, reward, terminated, truncated, info = env.step(real_action)\n",
    "        done = terminated or truncated\n",
    "\n",
    "        # Models action output has a different shape for this problem\n",
    "        agent.memory.push(transition(state, train_action, reward, next_state))\n",
    "        agent.learn()\n",
    "\n",
    "        state = next_state\n",
    "        episode_reward += reward\n",
    "\n",
    "        if reward < 0:\n",
    "            no_reward_counter += 1\n",
    "            if no_reward_counter > 200:\n",
    "                break\n",
    "        else:\n",
    "            no_reward_counter = 0\n",
    "\n",
    "    all_episode_reward.append(episode_reward)\n",
    "    average_result = np.array(all_episode_reward[-10:]).mean()\n",
    "    print('Last result:', episode_reward, 'Average results:', average_result)\n",
    "\n",
    "\n",
    "    if ie % save_reward_freq == 0:\n",
    "        history['Episode'].append(ie)\n",
    "        history['AvgReturn'].append(average_result)\n",
    "\n",
    "    if ie % save_model_freq == 0 and ie > 0:\n",
    "        clear_output()\n",
    "        plt.figure(figsize=(8, 5))\n",
    "        plt.plot(history['Episode'], history['AvgReturn'], 'r-')\n",
    "        plt.xlabel('Episode', fontsize=16)\n",
    "        plt.ylabel('AvgReturn', fontsize=16)\n",
    "        plt.xticks(fontsize=14)\n",
    "        plt.yticks(fontsize=14)\n",
    "        plt.grid(axis='y')\n",
    "        plt.savefig(\"rewards.png\")\n",
    "        print('Saving best solution')\n",
    "        torch.save(agent.save_models(ie), f'dqn{ie}.pt')"
   ]
  },
  {
   "cell_type": "code",
   "execution_count": 23,
   "metadata": {},
   "outputs": [
    {
     "ename": "FileNotFoundError",
     "evalue": "[Errno 2] No such file or directory: 'gym-rl-car-racing\\\\models\\x07ctor.pt'",
     "output_type": "error",
     "traceback": [
      "\u001b[1;31m---------------------------------------------------------------------------\u001b[0m",
      "\u001b[1;31mFileNotFoundError\u001b[0m                         Traceback (most recent call last)",
      "\u001b[1;32mc:\\Users\\mertc\\Desktop\\dev\\gym-rl-car-racing\\car-ddpg.ipynb Cell 14\u001b[0m line \u001b[0;36m4\n\u001b[0;32m      <a href='vscode-notebook-cell:/c%3A/Users/mertc/Desktop/dev/gym-rl-car-racing/car-ddpg.ipynb#X16sZmlsZQ%3D%3D?line=1'>2</a>\u001b[0m state, _ \u001b[39m=\u001b[39m env\u001b[39m.\u001b[39mreset()\n\u001b[0;32m      <a href='vscode-notebook-cell:/c%3A/Users/mertc/Desktop/dev/gym-rl-car-racing/car-ddpg.ipynb#X16sZmlsZQ%3D%3D?line=2'>3</a>\u001b[0m agent \u001b[39m=\u001b[39m DDPG(state, \u001b[39m2\u001b[39m, env\u001b[39m.\u001b[39maction_space)\n\u001b[1;32m----> <a href='vscode-notebook-cell:/c%3A/Users/mertc/Desktop/dev/gym-rl-car-racing/car-ddpg.ipynb#X16sZmlsZQ%3D%3D?line=3'>4</a>\u001b[0m agent\u001b[39m.\u001b[39mload_models()\n\u001b[0;32m      <a href='vscode-notebook-cell:/c%3A/Users/mertc/Desktop/dev/gym-rl-car-racing/car-ddpg.ipynb#X16sZmlsZQ%3D%3D?line=4'>5</a>\u001b[0m \u001b[39mfor\u001b[39;00m ie \u001b[39min\u001b[39;00m \u001b[39mrange\u001b[39m(\u001b[39m5\u001b[39m):\n\u001b[0;32m      <a href='vscode-notebook-cell:/c%3A/Users/mertc/Desktop/dev/gym-rl-car-racing/car-ddpg.ipynb#X16sZmlsZQ%3D%3D?line=5'>6</a>\u001b[0m     state, _ \u001b[39m=\u001b[39m env\u001b[39m.\u001b[39mreset()\n",
      "\u001b[1;32mc:\\Users\\mertc\\Desktop\\dev\\gym-rl-car-racing\\car-ddpg.ipynb Cell 14\u001b[0m line \u001b[0;36m8\n\u001b[0;32m     <a href='vscode-notebook-cell:/c%3A/Users/mertc/Desktop/dev/gym-rl-car-racing/car-ddpg.ipynb#X16sZmlsZQ%3D%3D?line=82'>83</a>\u001b[0m \u001b[39mdef\u001b[39;00m \u001b[39mload_models\u001b[39m(\u001b[39mself\u001b[39m):\n\u001b[1;32m---> <a href='vscode-notebook-cell:/c%3A/Users/mertc/Desktop/dev/gym-rl-car-racing/car-ddpg.ipynb#X16sZmlsZQ%3D%3D?line=83'>84</a>\u001b[0m     \u001b[39mself\u001b[39m\u001b[39m.\u001b[39mactor\u001b[39m.\u001b[39mload_state_dict(torch\u001b[39m.\u001b[39mload(\u001b[39m\"\u001b[39m\u001b[39mgym-rl-car-racing\u001b[39m\u001b[39m\\\u001b[39m\u001b[39mmodels\u001b[39m\u001b[39m\\a\u001b[39;00m\u001b[39mctor.pt\u001b[39m\u001b[39m\"\u001b[39m)) \n\u001b[0;32m     <a href='vscode-notebook-cell:/c%3A/Users/mertc/Desktop/dev/gym-rl-car-racing/car-ddpg.ipynb#X16sZmlsZQ%3D%3D?line=84'>85</a>\u001b[0m     \u001b[39mself\u001b[39m\u001b[39m.\u001b[39mcritic\u001b[39m.\u001b[39mload_state_dict(torch\u001b[39m.\u001b[39mload(\u001b[39m\"\u001b[39m\u001b[39mgym-rl-car-racing\u001b[39m\u001b[39m\\\u001b[39m\u001b[39mmodels\u001b[39m\u001b[39m\\\u001b[39m\u001b[39mcritic.pt\u001b[39m\u001b[39m\"\u001b[39m)) \n\u001b[0;32m     <a href='vscode-notebook-cell:/c%3A/Users/mertc/Desktop/dev/gym-rl-car-racing/car-ddpg.ipynb#X16sZmlsZQ%3D%3D?line=85'>86</a>\u001b[0m     \u001b[39mself\u001b[39m\u001b[39m.\u001b[39mactor_target\u001b[39m.\u001b[39mload_state_dict(torch\u001b[39m.\u001b[39mload(\u001b[39m\"\u001b[39m\u001b[39mgym-rl-car-racing\u001b[39m\u001b[39m\\\u001b[39m\u001b[39mmodels\u001b[39m\u001b[39m\\a\u001b[39;00m\u001b[39mctor_target.pt\u001b[39m\u001b[39m\"\u001b[39m)) \n",
      "File \u001b[1;32mc:\\Users\\mertc\\anaconda3\\envs\\gymenv\\Lib\\site-packages\\torch\\serialization.py:791\u001b[0m, in \u001b[0;36mload\u001b[1;34m(f, map_location, pickle_module, weights_only, **pickle_load_args)\u001b[0m\n\u001b[0;32m    788\u001b[0m \u001b[39mif\u001b[39;00m \u001b[39m'\u001b[39m\u001b[39mencoding\u001b[39m\u001b[39m'\u001b[39m \u001b[39mnot\u001b[39;00m \u001b[39min\u001b[39;00m pickle_load_args\u001b[39m.\u001b[39mkeys():\n\u001b[0;32m    789\u001b[0m     pickle_load_args[\u001b[39m'\u001b[39m\u001b[39mencoding\u001b[39m\u001b[39m'\u001b[39m] \u001b[39m=\u001b[39m \u001b[39m'\u001b[39m\u001b[39mutf-8\u001b[39m\u001b[39m'\u001b[39m\n\u001b[1;32m--> 791\u001b[0m \u001b[39mwith\u001b[39;00m _open_file_like(f, \u001b[39m'\u001b[39m\u001b[39mrb\u001b[39m\u001b[39m'\u001b[39m) \u001b[39mas\u001b[39;00m opened_file:\n\u001b[0;32m    792\u001b[0m     \u001b[39mif\u001b[39;00m _is_zipfile(opened_file):\n\u001b[0;32m    793\u001b[0m         \u001b[39m# The zipfile reader is going to advance the current file position.\u001b[39;00m\n\u001b[0;32m    794\u001b[0m         \u001b[39m# If we want to actually tail call to torch.jit.load, we need to\u001b[39;00m\n\u001b[0;32m    795\u001b[0m         \u001b[39m# reset back to the original position.\u001b[39;00m\n\u001b[0;32m    796\u001b[0m         orig_position \u001b[39m=\u001b[39m opened_file\u001b[39m.\u001b[39mtell()\n",
      "File \u001b[1;32mc:\\Users\\mertc\\anaconda3\\envs\\gymenv\\Lib\\site-packages\\torch\\serialization.py:271\u001b[0m, in \u001b[0;36m_open_file_like\u001b[1;34m(name_or_buffer, mode)\u001b[0m\n\u001b[0;32m    269\u001b[0m \u001b[39mdef\u001b[39;00m \u001b[39m_open_file_like\u001b[39m(name_or_buffer, mode):\n\u001b[0;32m    270\u001b[0m     \u001b[39mif\u001b[39;00m _is_path(name_or_buffer):\n\u001b[1;32m--> 271\u001b[0m         \u001b[39mreturn\u001b[39;00m _open_file(name_or_buffer, mode)\n\u001b[0;32m    272\u001b[0m     \u001b[39melse\u001b[39;00m:\n\u001b[0;32m    273\u001b[0m         \u001b[39mif\u001b[39;00m \u001b[39m'\u001b[39m\u001b[39mw\u001b[39m\u001b[39m'\u001b[39m \u001b[39min\u001b[39;00m mode:\n",
      "File \u001b[1;32mc:\\Users\\mertc\\anaconda3\\envs\\gymenv\\Lib\\site-packages\\torch\\serialization.py:252\u001b[0m, in \u001b[0;36m_open_file.__init__\u001b[1;34m(self, name, mode)\u001b[0m\n\u001b[0;32m    251\u001b[0m \u001b[39mdef\u001b[39;00m \u001b[39m__init__\u001b[39m(\u001b[39mself\u001b[39m, name, mode):\n\u001b[1;32m--> 252\u001b[0m     \u001b[39msuper\u001b[39m()\u001b[39m.\u001b[39m\u001b[39m__init__\u001b[39m(\u001b[39mopen\u001b[39m(name, mode))\n",
      "\u001b[1;31mFileNotFoundError\u001b[0m: [Errno 2] No such file or directory: 'gym-rl-car-racing\\\\models\\x07ctor.pt'"
     ]
    }
   ],
   "source": [
    "env = GameEnv(gym.make('CarRacing-v2', continuous=True, render_mode=\"human\"))\n",
    "state, _ = env.reset()\n",
    "agent = DDPG(state, 2, env.action_space)\n",
    "agent.load_models()\n",
    "for ie in range(5):\n",
    "    state, _ = env.reset()\n",
    "    agent.reset()\n",
    "    done = False\n",
    "    # One-step-loop\n",
    "    while not done:\n",
    "\n",
    "        train_action, real_action = agent.select_action(state, training=False)\n",
    "\n",
    "        # This will make steering much easier\n",
    "        real_action /= 4\n",
    "        next_state, reward, terminated, truncated, info = env.step(real_action)\n",
    "        done = terminated or truncated\n",
    "\n",
    "        state = next_state"
   ]
  },
  {
   "cell_type": "code",
   "execution_count": 3,
   "metadata": {},
   "outputs": [
    {
     "name": "stderr",
     "output_type": "stream",
     "text": [
      "C:\\Users\\mertc\\AppData\\Local\\Temp\\ipykernel_13744\\3019937839.py:3: UserWarning: Implicit dimension choice for softmax has been deprecated. Change the call to include dim=X as an argument.\n",
      "  F.softmax(torch.tensor([0.78], dtype=torch.float32, device='cuda'))\n"
     ]
    },
    {
     "data": {
      "text/plain": [
       "tensor([1.], device='cuda:0')"
      ]
     },
     "execution_count": 3,
     "metadata": {},
     "output_type": "execute_result"
    }
   ],
   "source": [
    "import torch.nn.functional as F\n",
    "import torch\n",
    "F.softmax(torch.tensor([0.78], dtype=torch.float32, device='cuda'))"
   ]
  }
 ],
 "metadata": {
  "kernelspec": {
   "display_name": "gymenv",
   "language": "python",
   "name": "python3"
  },
  "language_info": {
   "codemirror_mode": {
    "name": "ipython",
    "version": 3
   },
   "file_extension": ".py",
   "mimetype": "text/x-python",
   "name": "python",
   "nbconvert_exporter": "python",
   "pygments_lexer": "ipython3",
   "version": "3.11.4"
  },
  "orig_nbformat": 4
 },
 "nbformat": 4,
 "nbformat_minor": 2
}
